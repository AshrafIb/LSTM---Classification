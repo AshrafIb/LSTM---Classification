{
 "cells": [
  {
   "cell_type": "markdown",
   "metadata": {
    "ExecuteTime": {
     "end_time": "2020-09-08T10:54:50.430165Z",
     "start_time": "2020-09-08T10:54:50.426792Z"
    }
   },
   "source": [
    "# Prolog"
   ]
  },
  {
   "cell_type": "markdown",
   "metadata": {},
   "source": [
    "This Jupyter Notebook creates a LSTM-RNN to replicate the Cluster from the Newspaper.ipnyb. It Mainly focuses on identifying relevant newspaper Articles, where dismissals are obvious. \n",
    "The Model is stored and will be put into production in a webinterface. \n",
    "\n",
    "Author: Ashraf Ibrahim\n",
    "Changelog: None"
   ]
  },
  {
   "cell_type": "markdown",
   "metadata": {},
   "source": [
    "# Modules"
   ]
  },
  {
   "cell_type": "code",
   "execution_count": 2,
   "metadata": {
    "ExecuteTime": {
     "end_time": "2020-11-11T15:58:53.994734Z",
     "start_time": "2020-11-11T15:58:51.967926Z"
    }
   },
   "outputs": [],
   "source": [
    "import numpy as np\n",
    "import pandas as pd\n",
    "import matplotlib.pyplot as plt\n",
    "from matplotlib.pyplot import imshow\n",
    "%matplotlib inline\n",
    "\n",
    "\n",
    "from tensorflow.python.keras.layers import Dense,Input,LSTM,Bidirectional,Activation,Conv1D,GRU\n",
    "from tensorflow.python.keras.layers import Dropout,Embedding,GlobalMaxPooling1D, MaxPooling1D, Add, Flatten\n",
    "from tensorflow.python.keras.layers import GlobalAveragePooling1D, GlobalMaxPooling1D, concatenate, SpatialDropout1D\n",
    "\n",
    "from tensorflow.python.keras.callbacks import Callback\n",
    "from tensorflow.python.keras.callbacks import EarlyStopping,ModelCheckpoint\n",
    "from tensorflow.python.keras.preprocessing import text, sequence\n",
    "from tensorflow.python.keras import initializers, regularizers, constraints, optimizers, layers, callbacks\n",
    "from tensorflow.python.keras.models import Model\n",
    "from tensorflow.python.keras.layers import merge,add\n",
    "from tensorflow.python.keras.optimizers import Adam\n",
    "from tensorflow.python.keras.models import Sequential\n",
    "from tensorflow.python.keras.layers import LSTM, Dense, Dropout, Masking, Embedding\n",
    "from tensorflow.python.client import device_lib\n",
    "from tensorflow.python.keras.utils.vis_utils import model_to_dot\n",
    "from tensorflow.python.keras import backend as  K\n",
    "\n",
    "\n",
    "import pydot\n",
    "import pydotplus \n",
    "import graphviz\n",
    "\n",
    "from sklearn.model_selection import train_test_split\n",
    "from sklearn.metrics import accuracy_score\n",
    "from sklearn.metrics import roc_auc_score\n",
    "from IPython.display import SVG\n",
    "\n",
    "\n",
    "\n",
    "import re"
   ]
  },
  {
   "cell_type": "markdown",
   "metadata": {},
   "source": [
    "# Files "
   ]
  },
  {
   "cell_type": "code",
   "execution_count": 3,
   "metadata": {
    "ExecuteTime": {
     "end_time": "2020-11-11T15:58:54.791625Z",
     "start_time": "2020-11-11T15:58:54.746381Z"
    }
   },
   "outputs": [],
   "source": [
    "# Read dataframe with Cluster-analysis\n",
    "df=pd.read_csv('final_frame.csv',sep=';',encoding='latin-1')"
   ]
  },
  {
   "cell_type": "code",
   "execution_count": 7,
   "metadata": {
    "ExecuteTime": {
     "end_time": "2020-11-11T12:18:28.262920Z",
     "start_time": "2020-11-11T12:18:28.250930Z"
    }
   },
   "outputs": [
    {
     "data": {
      "text/plain": [
       "Unnamed: 0      0\n",
       "index           0\n",
       "Article URL     0\n",
       "Article Text    0\n",
       "ORG             0\n",
       "PER             0\n",
       "clust           0\n",
       "0               0\n",
       "dtype: int64"
      ]
     },
     "execution_count": 7,
     "metadata": {},
     "output_type": "execute_result"
    }
   ],
   "source": [
    "df=df.dropna(how='any',axis=0)\n",
    "df.isna().sum()"
   ]
  },
  {
   "cell_type": "code",
   "execution_count": 7,
   "metadata": {
    "ExecuteTime": {
     "end_time": "2020-11-11T13:17:59.809727Z",
     "start_time": "2020-11-11T13:17:59.779212Z"
    },
    "scrolled": true
   },
   "outputs": [
    {
     "data": {
      "text/plain": [
       "['aber',\n",
       " 'alle',\n",
       " 'allem',\n",
       " 'allen',\n",
       " 'aller',\n",
       " 'alles',\n",
       " 'als',\n",
       " 'also',\n",
       " 'am',\n",
       " 'an',\n",
       " 'ander',\n",
       " 'andere',\n",
       " 'anderem',\n",
       " 'anderen',\n",
       " 'anderer',\n",
       " 'anderes',\n",
       " 'anderm',\n",
       " 'andern',\n",
       " 'anderr',\n",
       " 'anders',\n",
       " 'auch',\n",
       " 'auf',\n",
       " 'aus',\n",
       " 'bei',\n",
       " 'bin',\n",
       " 'bis',\n",
       " 'bist',\n",
       " 'da',\n",
       " 'damit',\n",
       " 'dann',\n",
       " 'der',\n",
       " 'den',\n",
       " 'des',\n",
       " 'dem',\n",
       " 'die',\n",
       " 'das',\n",
       " 'dass',\n",
       " 'daß',\n",
       " 'derselbe',\n",
       " 'derselben',\n",
       " 'denselben',\n",
       " 'desselben',\n",
       " 'demselben',\n",
       " 'dieselbe',\n",
       " 'dieselben',\n",
       " 'dasselbe',\n",
       " 'dazu',\n",
       " 'dein',\n",
       " 'deine',\n",
       " 'deinem',\n",
       " 'deinen',\n",
       " 'deiner',\n",
       " 'deines',\n",
       " 'denn',\n",
       " 'derer',\n",
       " 'dessen',\n",
       " 'dich',\n",
       " 'dir',\n",
       " 'du',\n",
       " 'dies',\n",
       " 'diese',\n",
       " 'diesem',\n",
       " 'diesen',\n",
       " 'dieser',\n",
       " 'dieses',\n",
       " 'doch',\n",
       " 'dort',\n",
       " 'durch',\n",
       " 'ein',\n",
       " 'eine',\n",
       " 'einem',\n",
       " 'einen',\n",
       " 'einer',\n",
       " 'eines',\n",
       " 'einig',\n",
       " 'einige',\n",
       " 'einigem',\n",
       " 'einigen',\n",
       " 'einiger',\n",
       " 'einiges',\n",
       " 'einmal',\n",
       " 'er',\n",
       " 'ihn',\n",
       " 'ihm',\n",
       " 'es',\n",
       " 'etwas',\n",
       " 'euer',\n",
       " 'eure',\n",
       " 'eurem',\n",
       " 'euren',\n",
       " 'eurer',\n",
       " 'eures',\n",
       " 'für',\n",
       " 'gegen',\n",
       " 'gewesen',\n",
       " 'hab',\n",
       " 'habe',\n",
       " 'haben',\n",
       " 'hat',\n",
       " 'hatte',\n",
       " 'hatten',\n",
       " 'hier',\n",
       " 'hin',\n",
       " 'hinter',\n",
       " 'ich',\n",
       " 'mich',\n",
       " 'mir',\n",
       " 'ihr',\n",
       " 'ihre',\n",
       " 'ihrem',\n",
       " 'ihren',\n",
       " 'ihrer',\n",
       " 'ihres',\n",
       " 'euch',\n",
       " 'im',\n",
       " 'in',\n",
       " 'indem',\n",
       " 'ins',\n",
       " 'ist',\n",
       " 'jede',\n",
       " 'jedem',\n",
       " 'jeden',\n",
       " 'jeder',\n",
       " 'jedes',\n",
       " 'jene',\n",
       " 'jenem',\n",
       " 'jenen',\n",
       " 'jener',\n",
       " 'jenes',\n",
       " 'jetzt',\n",
       " 'kann',\n",
       " 'kein',\n",
       " 'keine',\n",
       " 'keinem',\n",
       " 'keinen',\n",
       " 'keiner',\n",
       " 'keines',\n",
       " 'können',\n",
       " 'könnte',\n",
       " 'machen',\n",
       " 'man',\n",
       " 'manche',\n",
       " 'manchem',\n",
       " 'manchen',\n",
       " 'mancher',\n",
       " 'manches',\n",
       " 'mein',\n",
       " 'meine',\n",
       " 'meinem',\n",
       " 'meinen',\n",
       " 'meiner',\n",
       " 'meines',\n",
       " 'mit',\n",
       " 'muss',\n",
       " 'musste',\n",
       " 'nach',\n",
       " 'nicht',\n",
       " 'nichts',\n",
       " 'noch',\n",
       " 'nun',\n",
       " 'nur',\n",
       " 'ob',\n",
       " 'oder',\n",
       " 'ohne',\n",
       " 'sehr',\n",
       " 'sein',\n",
       " 'seine',\n",
       " 'seinem',\n",
       " 'seinen',\n",
       " 'seiner',\n",
       " 'seines',\n",
       " 'selbst',\n",
       " 'sich',\n",
       " 'sie',\n",
       " 'ihnen',\n",
       " 'sind',\n",
       " 'so',\n",
       " 'solche',\n",
       " 'solchem',\n",
       " 'solchen',\n",
       " 'solcher',\n",
       " 'solches',\n",
       " 'soll',\n",
       " 'sollte',\n",
       " 'sondern',\n",
       " 'sonst',\n",
       " 'über',\n",
       " 'um',\n",
       " 'und',\n",
       " 'uns',\n",
       " 'unsere',\n",
       " 'unserem',\n",
       " 'unseren',\n",
       " 'unser',\n",
       " 'unseres',\n",
       " 'unter',\n",
       " 'viel',\n",
       " 'vom',\n",
       " 'von',\n",
       " 'vor',\n",
       " 'während',\n",
       " 'war',\n",
       " 'waren',\n",
       " 'warst',\n",
       " 'was',\n",
       " 'weg',\n",
       " 'weil',\n",
       " 'weiter',\n",
       " 'welche',\n",
       " 'welchem',\n",
       " 'welchen',\n",
       " 'welcher',\n",
       " 'welches',\n",
       " 'wenn',\n",
       " 'werde',\n",
       " 'werden',\n",
       " 'wie',\n",
       " 'wieder',\n",
       " 'will',\n",
       " 'wir',\n",
       " 'wird',\n",
       " 'wirst',\n",
       " 'wo',\n",
       " 'wollen',\n",
       " 'wollte',\n",
       " 'würde',\n",
       " 'würden',\n",
       " 'zu',\n",
       " 'zum',\n",
       " 'zur',\n",
       " 'zwar',\n",
       " 'zwischen',\n",
       " 'leverkusen',\n",
       " 'sos',\n",
       " 'daherâ',\n",
       " 'typischerweise',\n",
       " 'reparaturservice',\n",
       " 'frühzeitig',\n",
       " 'halbes',\n",
       " 'bundesratsinitiative',\n",
       " '132',\n",
       " '142',\n",
       " 'ole',\n",
       " 'geschlossene',\n",
       " 'bat',\n",
       " 'www',\n",
       " 'diamant',\n",
       " 'ergewöhnlich',\n",
       " 'az',\n",
       " 'wodurch',\n",
       " 'deckelâ',\n",
       " '1827',\n",
       " 'karl',\n",
       " 'bloomberg',\n",
       " 'untreueverdachts',\n",
       " 'abgasbetrug',\n",
       " 'nutzfahrzeugholding',\n",
       " 'saisonüblicher',\n",
       " 'bierkönigâ',\n",
       " 'nattenberg',\n",
       " 'stabilisierungsmaã',\n",
       " 'ingolstadt',\n",
       " 'knr',\n",
       " 'unten',\n",
       " 'rosenheim',\n",
       " 'db',\n",
       " '86',\n",
       " 'bosch',\n",
       " 'erreichbar',\n",
       " 'amazons',\n",
       " 'attraktiver',\n",
       " 'hnlich',\n",
       " 'jumbos',\n",
       " 'coronatests',\n",
       " 'zahleiche',\n",
       " 'unzufrieden',\n",
       " 'wotzlaw',\n",
       " 'erholungsphase',\n",
       " 'hauptstadtflughafens',\n",
       " 'else',\n",
       " '2100',\n",
       " 'rhein',\n",
       " 'alleine',\n",
       " 'afx',\n",
       " 'sicher',\n",
       " '04',\n",
       " 'anwesend',\n",
       " 'hinreichend',\n",
       " 'dringend',\n",
       " 'grundkapital',\n",
       " 'oâ',\n",
       " 'skurrile',\n",
       " 'absolut',\n",
       " 'bernd',\n",
       " 'eindrücklich',\n",
       " 'luftfahrtbehörde',\n",
       " 'wechsels',\n",
       " 'dezidierte',\n",
       " 'tennessee',\n",
       " 'girocard',\n",
       " 'goch',\n",
       " 'kiel',\n",
       " '410',\n",
       " 'unrentabel',\n",
       " 'anfänglichem',\n",
       " 'dsgvo',\n",
       " 'ausâ',\n",
       " 'grönland',\n",
       " 'fleischverband',\n",
       " 'vermisst',\n",
       " 'coffrini',\n",
       " 'faktisch',\n",
       " 'beispielsweise',\n",
       " 'wirksamkeit',\n",
       " 'mcdonald',\n",
       " 'wegen',\n",
       " 'schadowstraã',\n",
       " 'link',\n",
       " 'vatikan',\n",
       " 'jeff',\n",
       " 'gastel',\n",
       " 'bankenkonsortiums',\n",
       " '0â',\n",
       " 'james',\n",
       " 'ungleichmäã',\n",
       " 'vorzeitig',\n",
       " 'realdonaldtrump',\n",
       " 'deutschlandsâ',\n",
       " 'artã',\n",
       " 'arlington',\n",
       " 'unglücksflieger',\n",
       " 'optionâ',\n",
       " 'werbedisplays',\n",
       " 'lahm',\n",
       " 'drew',\n",
       " 'moers',\n",
       " '47',\n",
       " 'bewusst',\n",
       " 'weltgröã',\n",
       " '864',\n",
       " 'konkret',\n",
       " '3385',\n",
       " 'teckentrup',\n",
       " 'schadstoffausstoã',\n",
       " 'june',\n",
       " 'gebenâ',\n",
       " 'wirtschaftsfachleute',\n",
       " 'folgerichtig',\n",
       " 'dramatisch',\n",
       " 'dow',\n",
       " 'gleichermaã',\n",
       " 'klagenfurt',\n",
       " 'leipziger',\n",
       " 'eis',\n",
       " 'antonio',\n",
       " 'hannoveraner',\n",
       " 'hde',\n",
       " 'immobilienverband',\n",
       " 'hartmannsdorf',\n",
       " 'stabs',\n",
       " 'stuhls',\n",
       " 'rules',\n",
       " 'rückläufiger',\n",
       " 'günstiger',\n",
       " 'activity',\n",
       " 'brandenburg',\n",
       " '975803',\n",
       " 'kostentreiber',\n",
       " 'services',\n",
       " 'sabine',\n",
       " 'calhoun',\n",
       " 'zara',\n",
       " 'autokorso',\n",
       " 'profitabel',\n",
       " 'autovermieters',\n",
       " 'teamwork',\n",
       " 'sonderfonds',\n",
       " 'eservices',\n",
       " 'zeitnah',\n",
       " 'guttenberg',\n",
       " 'rio',\n",
       " 'marcumar',\n",
       " 'gegenwärtig',\n",
       " 'schutzschirms',\n",
       " 'bad',\n",
       " 'hans',\n",
       " 'marcel',\n",
       " 'dahlheim',\n",
       " 'vw',\n",
       " 'bayern',\n",
       " '912',\n",
       " 'offensichtlich',\n",
       " 'siebtel',\n",
       " 'braunschweig',\n",
       " 'vermeidbar',\n",
       " 'leipzig',\n",
       " 'kostenlos',\n",
       " '201',\n",
       " 'bundesrepublikâ',\n",
       " 'sozialversicherungspflichtig',\n",
       " 'lenkungsausschuss',\n",
       " 'übles',\n",
       " 'schonungslos',\n",
       " 'shops',\n",
       " 'barbosa',\n",
       " 'deal',\n",
       " 'fn',\n",
       " 'hauptschule',\n",
       " 'bundesarbeitsministeriums',\n",
       " 'dr',\n",
       " 'ballermann',\n",
       " '140',\n",
       " '57',\n",
       " 'gelds',\n",
       " 'amz',\n",
       " 'irland',\n",
       " 'sinnvoll',\n",
       " 'audi',\n",
       " 'zuvor',\n",
       " 'scheinbar',\n",
       " 'längerem',\n",
       " 'dicht',\n",
       " 'for',\n",
       " 'vennenbernd',\n",
       " 'durchgeführtâ',\n",
       " 'kanadischer',\n",
       " 'auã',\n",
       " 'wochenblatt',\n",
       " 'ausgerechnet',\n",
       " 'akquise',\n",
       " 'weinhandel',\n",
       " '2400',\n",
       " 'eben',\n",
       " 'neinâ',\n",
       " 'milliardenpaket',\n",
       " 'letztes',\n",
       " 'machtâ',\n",
       " 'fritz',\n",
       " 'entschlossene',\n",
       " 'waldbröl',\n",
       " '19',\n",
       " 'igâ',\n",
       " 'kebekus',\n",
       " '82',\n",
       " 'eckhardt',\n",
       " '1480',\n",
       " 'venedig',\n",
       " 'lupe',\n",
       " 'ganz',\n",
       " 'standortbetreiber',\n",
       " 'billigflieger',\n",
       " 'elektrolieferwagens',\n",
       " 'kapitals',\n",
       " 'strombörse',\n",
       " 'funkegrafik',\n",
       " 'rettungsplans',\n",
       " 'eigentlich',\n",
       " 'eigenen',\n",
       " 'bundesarbeitsministerium',\n",
       " '84',\n",
       " 'morgen',\n",
       " 'gesundheitsministers',\n",
       " 'zuweilen',\n",
       " 'rudolf',\n",
       " 'jahrelang',\n",
       " 'innen',\n",
       " 'endlich',\n",
       " 'rettungs',\n",
       " '954758',\n",
       " 'lukra',\n",
       " 'warum',\n",
       " 'gesundheitsamtes',\n",
       " 'peter',\n",
       " 'millionenbereich',\n",
       " 'daniela',\n",
       " '59',\n",
       " 'theodor',\n",
       " 'perfekt',\n",
       " '340',\n",
       " 'cash',\n",
       " 'graffiti',\n",
       " 'rechtskräftig',\n",
       " 'dieselautos',\n",
       " 'tilgungsplan',\n",
       " 'bekannt',\n",
       " 'afp',\n",
       " 'rbk',\n",
       " 'leiharbeit',\n",
       " 'landesfachbereichsleiter',\n",
       " 'erhebliche',\n",
       " 'zurückgelegtâ',\n",
       " 'jörg',\n",
       " 'musks',\n",
       " 'mitgliederöffentlich',\n",
       " 'the',\n",
       " 'besser',\n",
       " 'salons',\n",
       " 'gegenüber',\n",
       " '157',\n",
       " 'renationalisierenâ',\n",
       " 'wolfsburger',\n",
       " 'autobranche',\n",
       " '126',\n",
       " 'lauterbach',\n",
       " 'intensiver',\n",
       " 'rhodos',\n",
       " 'thepioneerde',\n",
       " 'zugunsten',\n",
       " 'hancock',\n",
       " 'himmelfahrts',\n",
       " 'rehberg',\n",
       " 'schwerer',\n",
       " 'aua',\n",
       " 'greenpeace',\n",
       " 'dasâ',\n",
       " 'vorjahresquartal',\n",
       " 'christi',\n",
       " 'leo',\n",
       " 'chattanooga',\n",
       " 'malik',\n",
       " 'sarkastischer',\n",
       " 'tattoo',\n",
       " 'berlins',\n",
       " '4000',\n",
       " 'nicoley',\n",
       " 'betrugâ',\n",
       " 'kaputt',\n",
       " 'michel',\n",
       " 'textilwirtschaftâ',\n",
       " 'nutzbar',\n",
       " 'bikes',\n",
       " 'dirk',\n",
       " 'boutique',\n",
       " 'hörmann',\n",
       " 'digital',\n",
       " 'sofia',\n",
       " 'wahrscheinlich',\n",
       " 'allerfrühestens',\n",
       " 'jahn',\n",
       " 'kenneth',\n",
       " '794',\n",
       " 'münster',\n",
       " 'abl',\n",
       " 'bemerkbar',\n",
       " 'gerade',\n",
       " 'wichtiger',\n",
       " 'tino',\n",
       " 'wettbewerbsverzerrun',\n",
       " 'tesla',\n",
       " 'pressetermin',\n",
       " '682',\n",
       " 'newsom',\n",
       " 'id',\n",
       " 'bereit',\n",
       " 'jahresprognose',\n",
       " 'insolvenzrechtliches',\n",
       " 'gemachtâ',\n",
       " 'einschreitens',\n",
       " 'fair',\n",
       " 'ärmer',\n",
       " 'skipis',\n",
       " 'rettungspaket',\n",
       " 'belgiens',\n",
       " 'mittwochausgaben',\n",
       " 'drehscheibe',\n",
       " 'destatis',\n",
       " 'wichtige',\n",
       " 'alternativlos',\n",
       " 'betriebswassernetzes',\n",
       " 'run',\n",
       " 'neu',\n",
       " 'solidarisch',\n",
       " 'fleischfabrikant',\n",
       " 'müller',\n",
       " '1986',\n",
       " 'investigativ',\n",
       " '2019',\n",
       " '203',\n",
       " '2009â',\n",
       " 'van',\n",
       " 'böhning',\n",
       " '819',\n",
       " 'rechtlich',\n",
       " 'ovb',\n",
       " 'bilanzprüfer',\n",
       " 'jedoch',\n",
       " 'bayer',\n",
       " 'meeting',\n",
       " 'douard',\n",
       " 'völliger',\n",
       " 'herzog',\n",
       " '101',\n",
       " 'postsprecher',\n",
       " 'taschenkontrollen',\n",
       " 'staatseinstieg',\n",
       " '986',\n",
       " 'deswegen',\n",
       " 'distancingâ',\n",
       " 'darauf',\n",
       " 'unkontrolliert',\n",
       " 'guevarra',\n",
       " '69656',\n",
       " 'ige',\n",
       " 'höher',\n",
       " 'sittenwidrig',\n",
       " '55',\n",
       " 'oftmals',\n",
       " 'delphine',\n",
       " 'rosig',\n",
       " 'santorini',\n",
       " 'erfolglos',\n",
       " 'marihuana',\n",
       " 'beschloss',\n",
       " 'karlheinz',\n",
       " 'basierend',\n",
       " 'strukturell',\n",
       " 'ard',\n",
       " 'zerlegebetriebes',\n",
       " 'anzeigepflichtig',\n",
       " 'technologisch',\n",
       " 'handbremse',\n",
       " 'giveawaysâ',\n",
       " 'jacobs',\n",
       " 'pfleger',\n",
       " 'aicurisâ',\n",
       " 'boeing',\n",
       " 'eurorettungsschirms',\n",
       " 'brigitte',\n",
       " 'kim',\n",
       " 'deutschlandfunk',\n",
       " 'laschet',\n",
       " 'lpreises',\n",
       " '2008',\n",
       " 'halbe',\n",
       " 'lsg',\n",
       " 'spaces',\n",
       " 'langsame',\n",
       " 'hocherfreut',\n",
       " 'distancing',\n",
       " 'wirtschaftâ',\n",
       " 'unternehmensumfeld',\n",
       " 'rechtzeitig',\n",
       " 'hätten',\n",
       " 'mallorquiner',\n",
       " 'solidaritätszuschlags',\n",
       " 'llc',\n",
       " 'julia',\n",
       " 'ausreichend',\n",
       " 'leidenschaftlich',\n",
       " 'langem',\n",
       " 'cost',\n",
       " 'ventures',\n",
       " 'erlebtâ',\n",
       " 'hierzu',\n",
       " 'herschbach',\n",
       " 'beinahe',\n",
       " 'schönefeld',\n",
       " 'problemfliegers',\n",
       " 'ökonomischen',\n",
       " 'lich',\n",
       " 'barrel',\n",
       " '2024',\n",
       " '01',\n",
       " 'angela',\n",
       " '90er',\n",
       " 'if',\n",
       " 'fortführungsperspektive',\n",
       " 'z2goejrv0l',\n",
       " 'inhaltlich',\n",
       " 'demnach',\n",
       " 'ulrich',\n",
       " 'ausgleich',\n",
       " 'gerd',\n",
       " 'toncar',\n",
       " 'tes',\n",
       " 'nachvollziehbares',\n",
       " 'pessimistisch',\n",
       " 'gefreutâ',\n",
       " 'wen',\n",
       " 'vertane',\n",
       " 'tom',\n",
       " 'ert',\n",
       " 'geldflusses',\n",
       " 'krisenpaket',\n",
       " 'egypt',\n",
       " '5317',\n",
       " 'scheinwerfer',\n",
       " 'drehscheibenkonzeptesâ',\n",
       " 'markus',\n",
       " 'ung',\n",
       " 'präsenzunterrichtâ',\n",
       " '131',\n",
       " 'heimatdrehkreuz',\n",
       " 'weinâ',\n",
       " 'rüsselsheim',\n",
       " 'texanisches',\n",
       " 'unmöglich',\n",
       " 'selbstverständlich',\n",
       " 'offiziell',\n",
       " 'eu',\n",
       " 'passagierrückgangs',\n",
       " 'of',\n",
       " 'margrethe',\n",
       " 'times',\n",
       " 'hq',\n",
       " '187',\n",
       " 'schlussâ',\n",
       " 'neapel',\n",
       " 'unterschiedlich',\n",
       " 'mietzuschuss',\n",
       " 'itmjszekxu',\n",
       " 'holm',\n",
       " 'durchs',\n",
       " 'beauty',\n",
       " 'jahresvergleich',\n",
       " 'montagabend',\n",
       " 'bogi',\n",
       " 'später',\n",
       " 'edeka',\n",
       " 'marc',\n",
       " 'tilgungs',\n",
       " '405',\n",
       " 'vereinbar',\n",
       " 'operations',\n",
       " 'elisabeth',\n",
       " 'übereinstimmend',\n",
       " 'bauwirtschaft',\n",
       " '134',\n",
       " 'neun',\n",
       " 'nfexkb7qqe',\n",
       " '54',\n",
       " 'mittelgröã',\n",
       " 'landesverband',\n",
       " '354',\n",
       " 'wirtschaftspolitiker',\n",
       " 'künftig',\n",
       " 'dietmar',\n",
       " 'shutdowns',\n",
       " 'care',\n",
       " 'thüringen',\n",
       " 'arndt',\n",
       " 'erordentliche',\n",
       " 'nichtâ',\n",
       " 'pgl',\n",
       " 'brussels',\n",
       " 'weltâ',\n",
       " 'kevelaer',\n",
       " 'nennenswertes',\n",
       " 'dänische',\n",
       " 'umsatzeinbrüche',\n",
       " 'malaga',\n",
       " 'beleiht',\n",
       " 'anfechtbar',\n",
       " 'ostsee',\n",
       " 'facebook',\n",
       " '967183',\n",
       " 'konsummodell',\n",
       " 'cov',\n",
       " 'ausbruchs',\n",
       " '12',\n",
       " 'möller',\n",
       " 'fra',\n",
       " 'leonberg',\n",
       " 'omni',\n",
       " 'chefökonomin',\n",
       " 'ansteckungsgefahr',\n",
       " 'ziv',\n",
       " '1999',\n",
       " 'olaf',\n",
       " 'mini',\n",
       " '116',\n",
       " 'unentbehrlich',\n",
       " 'teilhaber',\n",
       " 'leads',\n",
       " 'sowohl',\n",
       " 'verantwortungsbewusst',\n",
       " 'francisco',\n",
       " 'unterhalb',\n",
       " 'vierzehn',\n",
       " 'london',\n",
       " 'erschütterungâ',\n",
       " 'demokratieâ',\n",
       " 'asien',\n",
       " 'wertvolles',\n",
       " 'sielaff',\n",
       " 'brasilien',\n",
       " 'super',\n",
       " 'rainer',\n",
       " 'nieder',\n",
       " 'porth',\n",
       " 'fvw',\n",
       " 'dagewesene',\n",
       " '501',\n",
       " 'felix',\n",
       " 'wahlinitiative',\n",
       " '79',\n",
       " 'sorgfältig',\n",
       " 'nebensaison',\n",
       " 'frankfurt',\n",
       " 'kanaren',\n",
       " 'spitzberg',\n",
       " 'newkammer',\n",
       " '85',\n",
       " 'wachstumsimpulse',\n",
       " 'danach',\n",
       " 'food',\n",
       " 'geh',\n",
       " 'börsenvereins',\n",
       " 'blicherweise',\n",
       " '750',\n",
       " 'vorläufig',\n",
       " 'etats',\n",
       " 'bitcoins',\n",
       " 'sogenannte',\n",
       " 'breisgau',\n",
       " 'parallel',\n",
       " '481',\n",
       " 'schuldzinski',\n",
       " 'stabil',\n",
       " 'carty',\n",
       " 'tecson',\n",
       " 'bitte',\n",
       " 'e10',\n",
       " 'andre',\n",
       " 'zweiradhandels',\n",
       " '1992',\n",
       " 'dockland',\n",
       " 'künftige',\n",
       " 'wirtschaftsrats',\n",
       " 'grünes',\n",
       " 'nettoeinkommens',\n",
       " 'heinsberg',\n",
       " 'condor',\n",
       " 'ws',\n",
       " 'eisâ',\n",
       " 'tatverdacht',\n",
       " 'human',\n",
       " 'überhaupt',\n",
       " 'diario',\n",
       " 'nachträglich',\n",
       " 'bedeckt',\n",
       " '200806',\n",
       " 'unausweichlich',\n",
       " 'einbruchs',\n",
       " 'bereich',\n",
       " 'tragenâ',\n",
       " 'since',\n",
       " 'keineswegs',\n",
       " 'erfolgreich',\n",
       " 'sicherheitsbereich',\n",
       " 'erneut',\n",
       " 'zukunftsfähig',\n",
       " 'staatsanwaltschaftlich',\n",
       " 'drei',\n",
       " 'sridharan',\n",
       " '1571',\n",
       " 'schenker',\n",
       " '60',\n",
       " 'flight',\n",
       " 'allesâ',\n",
       " 'szenarien',\n",
       " 'hart',\n",
       " '96',\n",
       " 'rechtsextremer',\n",
       " '230',\n",
       " 'sterreichs',\n",
       " 'level',\n",
       " 'intensiv',\n",
       " 'angesichts',\n",
       " 'effektiv',\n",
       " 'willy',\n",
       " 'problems',\n",
       " 'geltender',\n",
       " 'long',\n",
       " '1712',\n",
       " 'unleashing',\n",
       " 'buchbar',\n",
       " 'rheinland',\n",
       " 'aletta',\n",
       " 'ursula',\n",
       " 'traditionsreicher',\n",
       " 'christiane',\n",
       " '21',\n",
       " 'gleichwohl',\n",
       " 'grundsicherungâ',\n",
       " 'mecklenburg',\n",
       " 'maximal',\n",
       " '000â',\n",
       " 'gleiche',\n",
       " 'momentane',\n",
       " 'spardruck',\n",
       " 'bekleidungskette',\n",
       " 'unbeeindruckt',\n",
       " 'letztlich',\n",
       " 'temporärâ',\n",
       " 'braun',\n",
       " 'leitindex',\n",
       " 'gekauftâ',\n",
       " 'move',\n",
       " 'vatican',\n",
       " 'reykjavã',\n",
       " 'obwohl',\n",
       " 'schufa',\n",
       " '1991',\n",
       " 'guam',\n",
       " 'treasury',\n",
       " 'tardor',\n",
       " 'rezension',\n",
       " 'lufthansaâ',\n",
       " '273',\n",
       " 'lucas',\n",
       " 'boddenberg',\n",
       " 'hohes',\n",
       " 'abi',\n",
       " 'rechts',\n",
       " 'clubs',\n",
       " '290',\n",
       " 'camp',\n",
       " 'vorwiegend',\n",
       " 'brauns',\n",
       " 'sob',\n",
       " '961764',\n",
       " 'südafrika',\n",
       " 'fast',\n",
       " 'it',\n",
       " 'darum',\n",
       " 'traditionell',\n",
       " 'zuviel',\n",
       " '783',\n",
       " 'claudia',\n",
       " 'agâ',\n",
       " 'volkswirtschaftlich',\n",
       " 'zwangspause',\n",
       " 'enttäuschender',\n",
       " 'quasi',\n",
       " 'scheibchenweise',\n",
       " '56',\n",
       " 'pleite',\n",
       " 'offenbar',\n",
       " 'johan',\n",
       " 'gefahrenabwehr',\n",
       " 'kontra',\n",
       " 'abgrunds',\n",
       " 'elektroniker',\n",
       " 'hals',\n",
       " 'einbeziehenâ',\n",
       " 'perspektivisch',\n",
       " 'angelaufenâ',\n",
       " 'gruppenebene',\n",
       " 'archiv',\n",
       " 'big',\n",
       " 'brakemeier',\n",
       " '40',\n",
       " 'destinationâ',\n",
       " 'unterm',\n",
       " 'verstaatlichungsorgienâ',\n",
       " 'ulm',\n",
       " 'vakant',\n",
       " 'knapp',\n",
       " 'konzernvorstand',\n",
       " 'häufiger',\n",
       " '940',\n",
       " 'wirtschaftliche',\n",
       " 'irgendetwas',\n",
       " 'bislang',\n",
       " 'ex',\n",
       " 'richtige',\n",
       " '6400',\n",
       " 'hamburg',\n",
       " '58',\n",
       " 'slowakei',\n",
       " 'caerus',\n",
       " 'airports',\n",
       " '33',\n",
       " 'primär',\n",
       " '39',\n",
       " 'eineinhalb',\n",
       " 'entweder',\n",
       " 'un',\n",
       " 'schulte',\n",
       " 'leichtöl',\n",
       " 'schwimmer',\n",
       " 'widerrechtlich',\n",
       " 'obligatorisch',\n",
       " 'bundesrechnungshof',\n",
       " 'jensen',\n",
       " 'domenico',\n",
       " 'business',\n",
       " 'berlassungshöchstdauer',\n",
       " 'symptome',\n",
       " 'sanierungspaket',\n",
       " 'prima',\n",
       " 'schutzmaske',\n",
       " 'hessen',\n",
       " 'leerstand',\n",
       " 'wsi',\n",
       " 'niedriger',\n",
       " 'polen',\n",
       " 'zulässt',\n",
       " 'jobverlust',\n",
       " ...]"
      ]
     },
     "execution_count": 7,
     "metadata": {},
     "output_type": "execute_result"
    }
   ],
   "source": [
    "# Read extracted stopwords_list\n",
    "stopword=pd.read_csv('stopwords_cluster.csv',sep=';',encoding='latin-1')\n",
    "# Dataframe to list \n",
    "stop_list=stopword['0'].to_list()\n",
    "stop_list"
   ]
  },
  {
   "cell_type": "markdown",
   "metadata": {},
   "source": [
    "# Dataframe preprocssing"
   ]
  },
  {
   "cell_type": "code",
   "execution_count": 9,
   "metadata": {
    "ExecuteTime": {
     "end_time": "2020-11-11T12:18:33.351916Z",
     "start_time": "2020-11-11T12:18:33.346316Z"
    }
   },
   "outputs": [],
   "source": [
    "# Drop Columns\n",
    "try:\n",
    "    df=df.drop(['Unnamed: 0'],axis=1)\n",
    "except: \n",
    "    None"
   ]
  },
  {
   "cell_type": "code",
   "execution_count": 10,
   "metadata": {
    "ExecuteTime": {
     "end_time": "2020-11-11T12:18:34.036736Z",
     "start_time": "2020-11-11T12:18:34.032746Z"
    }
   },
   "outputs": [],
   "source": [
    "# Rename Column to Cluster\n",
    "df.rename(columns={'0':'Cluster'},inplace=True)"
   ]
  },
  {
   "cell_type": "code",
   "execution_count": 5,
   "metadata": {
    "ExecuteTime": {
     "end_time": "2020-11-11T13:17:44.160645Z",
     "start_time": "2020-11-11T13:17:44.155828Z"
    }
   },
   "outputs": [],
   "source": [
    "# Cleaning text\n",
    "def cleaning(word):\n",
    "        '''\n",
    "        Input: \n",
    "        Text column\n",
    "    \n",
    "        Output:\n",
    "        tokenized and cleaned text\n",
    "    \n",
    "        '''\n",
    "        # lower words\n",
    "        word = word.lower()\n",
    "        \n",
    "        #### Change Symbols to german Umlaute \n",
    "        \n",
    "        ## Ä \n",
    "        word=word.replace('ã¤','ä')\n",
    "\n",
    "        ## Ö \n",
    "        word=word.replace('ã¶','ö')\n",
    "\n",
    "        ## Ü \n",
    "        word=word.replace('ã¼','ü')\n",
    "\n",
    "        ## ß\n",
    "        word=word.replace('ÃŸ','ss')\n",
    "        \n",
    "        # replace certain symbols\n",
    "        word = re.sub('[/(){}\\[\\]\\|@,;]', \" \", word)\n",
    "        # remove certain symbols \n",
    "        #word = re.sub('[^0-9a-z #+_]','', word)\n",
    "        # remove +\n",
    "        word = word.replace('+','')\n",
    "        # remove digits\n",
    "        word = re.sub(\"\\d+\", \" \", word)  \n",
    "        # Split and anti-join \n",
    "        word= ' '.join(w for w in word.split() if w not in stop_list)\n",
    "        return word"
   ]
  },
  {
   "cell_type": "code",
   "execution_count": 12,
   "metadata": {
    "ExecuteTime": {
     "end_time": "2020-11-11T12:18:41.886675Z",
     "start_time": "2020-11-11T12:18:41.874961Z"
    }
   },
   "outputs": [
    {
     "data": {
      "text/html": [
       "<div>\n",
       "<style scoped>\n",
       "    .dataframe tbody tr th:only-of-type {\n",
       "        vertical-align: middle;\n",
       "    }\n",
       "\n",
       "    .dataframe tbody tr th {\n",
       "        vertical-align: top;\n",
       "    }\n",
       "\n",
       "    .dataframe thead th {\n",
       "        text-align: right;\n",
       "    }\n",
       "</style>\n",
       "<table border=\"1\" class=\"dataframe\">\n",
       "  <thead>\n",
       "    <tr style=\"text-align: right;\">\n",
       "      <th></th>\n",
       "      <th>index</th>\n",
       "      <th>Article URL</th>\n",
       "      <th>Article Text</th>\n",
       "      <th>ORG</th>\n",
       "      <th>PER</th>\n",
       "      <th>clust</th>\n",
       "      <th>Cluster</th>\n",
       "    </tr>\n",
       "  </thead>\n",
       "  <tbody>\n",
       "    <tr>\n",
       "      <th>7</th>\n",
       "      <td>160</td>\n",
       "      <td>https://rp-online.de/wirtschaft/unternehmen/st...</td>\n",
       "      <td>corona-krise trifft reisebranche : hotelsuchma...</td>\n",
       "      <td>['Corona-Krise', 'Trivago', 'Trivago']</td>\n",
       "      <td>['Hotelsuchmaschine', 'Trivago', 'Bretz', 'And...</td>\n",
       "      <td>(0, 1454)\\t0.06453884350546524\\n  (0, 113)\\t...</td>\n",
       "      <td>0.0</td>\n",
       "    </tr>\n",
       "    <tr>\n",
       "      <th>4402</th>\n",
       "      <td>3296</td>\n",
       "      <td>https://www.duesseldorf-wirtschaft.de/wirtscha...</td>\n",
       "      <td>die corona-kriese trifft die hotel-metasuchmas...</td>\n",
       "      <td>['Corona-Pandemie', 'Nasdaq']</td>\n",
       "      <td>['Hotel-Metasuchmaschine', 'Trivago', 'Trivago...</td>\n",
       "      <td>(0, 1454)\\t0.06453884350546524\\n  (0, 113)\\t...</td>\n",
       "      <td>0.0</td>\n",
       "    </tr>\n",
       "  </tbody>\n",
       "</table>\n",
       "</div>"
      ],
      "text/plain": [
       "     index                                        Article URL  \\\n",
       "7      160  https://rp-online.de/wirtschaft/unternehmen/st...   \n",
       "4402  3296  https://www.duesseldorf-wirtschaft.de/wirtscha...   \n",
       "\n",
       "                                           Article Text  \\\n",
       "7     corona-krise trifft reisebranche : hotelsuchma...   \n",
       "4402  die corona-kriese trifft die hotel-metasuchmas...   \n",
       "\n",
       "                                         ORG  \\\n",
       "7     ['Corona-Krise', 'Trivago', 'Trivago']   \n",
       "4402           ['Corona-Pandemie', 'Nasdaq']   \n",
       "\n",
       "                                                    PER  \\\n",
       "7     ['Hotelsuchmaschine', 'Trivago', 'Bretz', 'And...   \n",
       "4402  ['Hotel-Metasuchmaschine', 'Trivago', 'Trivago...   \n",
       "\n",
       "                                                  clust  Cluster  \n",
       "7       (0, 1454)\\t0.06453884350546524\\n  (0, 113)\\t...      0.0  \n",
       "4402    (0, 1454)\\t0.06453884350546524\\n  (0, 113)\\t...      0.0  "
      ]
     },
     "execution_count": 12,
     "metadata": {},
     "output_type": "execute_result"
    }
   ],
   "source": [
    "df[df['Article Text'].str.contains('trivago')]"
   ]
  },
  {
   "cell_type": "code",
   "execution_count": 13,
   "metadata": {
    "ExecuteTime": {
     "end_time": "2020-11-11T12:18:43.543400Z",
     "start_time": "2020-11-11T12:18:43.538314Z"
    }
   },
   "outputs": [],
   "source": [
    "# Grouping text in important and not important\n",
    "df['Cluster_grp']=np.where(df['Cluster']==0,1,0)"
   ]
  },
  {
   "cell_type": "code",
   "execution_count": 14,
   "metadata": {
    "ExecuteTime": {
     "end_time": "2020-11-11T12:18:44.287889Z",
     "start_time": "2020-11-11T12:18:44.271230Z"
    }
   },
   "outputs": [
    {
     "data": {
      "text/html": [
       "<div>\n",
       "<style scoped>\n",
       "    .dataframe tbody tr th:only-of-type {\n",
       "        vertical-align: middle;\n",
       "    }\n",
       "\n",
       "    .dataframe tbody tr th {\n",
       "        vertical-align: top;\n",
       "    }\n",
       "\n",
       "    .dataframe thead th {\n",
       "        text-align: right;\n",
       "    }\n",
       "</style>\n",
       "<table border=\"1\" class=\"dataframe\">\n",
       "  <thead>\n",
       "    <tr style=\"text-align: right;\">\n",
       "      <th></th>\n",
       "      <th>index</th>\n",
       "      <th>Article URL</th>\n",
       "      <th>Article Text</th>\n",
       "      <th>ORG</th>\n",
       "      <th>PER</th>\n",
       "      <th>clust</th>\n",
       "      <th>Cluster</th>\n",
       "      <th>Cluster_grp</th>\n",
       "    </tr>\n",
       "  </thead>\n",
       "  <tbody>\n",
       "    <tr>\n",
       "      <th>7</th>\n",
       "      <td>160</td>\n",
       "      <td>https://rp-online.de/wirtschaft/unternehmen/st...</td>\n",
       "      <td>corona-krise trifft reisebranche : hotelsuchma...</td>\n",
       "      <td>['Corona-Krise', 'Trivago', 'Trivago']</td>\n",
       "      <td>['Hotelsuchmaschine', 'Trivago', 'Bretz', 'And...</td>\n",
       "      <td>(0, 1454)\\t0.06453884350546524\\n  (0, 113)\\t...</td>\n",
       "      <td>0.0</td>\n",
       "      <td>1</td>\n",
       "    </tr>\n",
       "    <tr>\n",
       "      <th>4402</th>\n",
       "      <td>3296</td>\n",
       "      <td>https://www.duesseldorf-wirtschaft.de/wirtscha...</td>\n",
       "      <td>die corona-kriese trifft die hotel-metasuchmas...</td>\n",
       "      <td>['Corona-Pandemie', 'Nasdaq']</td>\n",
       "      <td>['Hotel-Metasuchmaschine', 'Trivago', 'Trivago...</td>\n",
       "      <td>(0, 1454)\\t0.06453884350546524\\n  (0, 113)\\t...</td>\n",
       "      <td>0.0</td>\n",
       "      <td>1</td>\n",
       "    </tr>\n",
       "  </tbody>\n",
       "</table>\n",
       "</div>"
      ],
      "text/plain": [
       "     index                                        Article URL  \\\n",
       "7      160  https://rp-online.de/wirtschaft/unternehmen/st...   \n",
       "4402  3296  https://www.duesseldorf-wirtschaft.de/wirtscha...   \n",
       "\n",
       "                                           Article Text  \\\n",
       "7     corona-krise trifft reisebranche : hotelsuchma...   \n",
       "4402  die corona-kriese trifft die hotel-metasuchmas...   \n",
       "\n",
       "                                         ORG  \\\n",
       "7     ['Corona-Krise', 'Trivago', 'Trivago']   \n",
       "4402           ['Corona-Pandemie', 'Nasdaq']   \n",
       "\n",
       "                                                    PER  \\\n",
       "7     ['Hotelsuchmaschine', 'Trivago', 'Bretz', 'And...   \n",
       "4402  ['Hotel-Metasuchmaschine', 'Trivago', 'Trivago...   \n",
       "\n",
       "                                                  clust  Cluster  Cluster_grp  \n",
       "7       (0, 1454)\\t0.06453884350546524\\n  (0, 113)\\t...      0.0            1  \n",
       "4402    (0, 1454)\\t0.06453884350546524\\n  (0, 113)\\t...      0.0            1  "
      ]
     },
     "execution_count": 14,
     "metadata": {},
     "output_type": "execute_result"
    }
   ],
   "source": [
    "df[df['Article Text'].str.contains('trivago')]"
   ]
  },
  {
   "cell_type": "code",
   "execution_count": 15,
   "metadata": {
    "ExecuteTime": {
     "end_time": "2020-11-11T12:18:50.441158Z",
     "start_time": "2020-11-11T12:18:46.261836Z"
    }
   },
   "outputs": [],
   "source": [
    "# Applying cleaning to text column\n",
    "df['Text_cleaned']=df['Article Text'].apply(cleaning)"
   ]
  },
  {
   "cell_type": "markdown",
   "metadata": {},
   "source": [
    "# LSTM Preprocessing"
   ]
  },
  {
   "cell_type": "code",
   "execution_count": 16,
   "metadata": {
    "ExecuteTime": {
     "end_time": "2020-11-11T12:18:52.238007Z",
     "start_time": "2020-11-11T12:18:52.234419Z"
    }
   },
   "outputs": [],
   "source": [
    "# Defining features, length-variables etc. \n",
    "max_features=50000\n",
    "max_len=round(min(df['Text_cleaned'].apply(lambda x: len(x))))\n",
    "embed_size=100\n",
    "batch_size = 200\n",
    "epochs = 25"
   ]
  },
  {
   "cell_type": "code",
   "execution_count": null,
   "metadata": {
    "ExecuteTime": {
     "start_time": "2020-11-05T11:47:41.276Z"
    }
   },
   "outputs": [],
   "source": [
    "### Long computational time\n",
    "# max_len=round(np.mean(df['Text_cleaned'].apply(lambda x: len(x)))) \n",
    "# max_len"
   ]
  },
  {
   "cell_type": "code",
   "execution_count": 16,
   "metadata": {
    "ExecuteTime": {
     "end_time": "2020-11-10T09:12:11.462539Z",
     "start_time": "2020-11-10T09:12:11.355479Z"
    }
   },
   "outputs": [
    {
     "name": "stdout",
     "output_type": "stream",
     "text": [
      "Found 9422 unique words.\n"
     ]
    }
   ],
   "source": [
    "# Defining tokenizer with filter\n",
    "tokenizer = text.Tokenizer(num_words=max_features, filters='!\"#$%&()*+,-./:;<=>?@[\\]^_`{|}~', lower=True)\n",
    "# Fitting Tokenizer\n",
    "tokenizer.fit_on_texts(df['Text_cleaned'].values)\n",
    "# Create word index\n",
    "word_index = tokenizer.word_index\n",
    "print('Found {} unique words.'.format(len(word_index)))"
   ]
  },
  {
   "cell_type": "code",
   "execution_count": 18,
   "metadata": {
    "ExecuteTime": {
     "end_time": "2020-11-10T09:12:16.094286Z",
     "start_time": "2020-11-10T09:12:16.056875Z"
    }
   },
   "outputs": [],
   "source": [
    "with open(\"word.json\", \"w\") as outfile:  \n",
    "    json.dump(word_index, outfile) "
   ]
  },
  {
   "cell_type": "code",
   "execution_count": 31,
   "metadata": {
    "ExecuteTime": {
     "end_time": "2020-11-10T09:13:25.492103Z",
     "start_time": "2020-11-10T09:13:25.396165Z"
    }
   },
   "outputs": [
    {
     "name": "stdout",
     "output_type": "stream",
     "text": [
      "Shape of data tensor: (213, 526)\n"
     ]
    }
   ],
   "source": [
    "# Defining X \n",
    "X = tokenizer.texts_to_sequences(df['Text_cleaned'].values)\n",
    "X = sequence.pad_sequences(X, maxlen=max_len)\n",
    "print('Shape of data tensor:', X.shape)"
   ]
  },
  {
   "cell_type": "code",
   "execution_count": 32,
   "metadata": {
    "ExecuteTime": {
     "end_time": "2020-11-10T09:13:29.334171Z",
     "start_time": "2020-11-10T09:13:29.329713Z"
    }
   },
   "outputs": [
    {
     "data": {
      "text/plain": [
       "(213, 526)"
      ]
     },
     "execution_count": 32,
     "metadata": {},
     "output_type": "execute_result"
    }
   ],
   "source": [
    "X.shape"
   ]
  },
  {
   "cell_type": "markdown",
   "metadata": {},
   "source": [
    "$$x_{s,w}=\\begin{bmatrix}\n",
    "           x_{w1} \\\\\n",
    "           x_{w2} \\\\\n",
    "           x_{w3} \\\\\n",
    "           \\vdots \\\\\n",
    "           x_{w526} \\\\\n",
    "         \\end{bmatrix}$$\n"
   ]
  },
  {
   "cell_type": "code",
   "execution_count": 37,
   "metadata": {
    "ExecuteTime": {
     "end_time": "2020-11-10T09:15:39.396552Z",
     "start_time": "2020-11-10T09:15:39.391625Z"
    }
   },
   "outputs": [
    {
     "data": {
      "text/plain": [
       "array([ 129,  151, 2080, 1624,  210, 1013, 1014,  198,  286, 2081,  151,\n",
       "       1279,   57, 1013,   29, 1014,   19,   23, 1625,   75,  468, 1012,\n",
       "        780,   68, 1752,  131,  216,   28,  308,  361,  666,   75, 1753,\n",
       "       1626,    2,    4,  627,  590, 1015, 1270,    7,   13,    9,  145,\n",
       "       1091,  627,  729, 1015, 1627, 1162,  182,  449,  597, 2082, 2083,\n",
       "       1373, 2084,  878,  826,  564,  627,   30, 2085,   89, 2086, 2087,\n",
       "         37, 1628,  940, 2088, 2089, 2090, 1016,  383,   74,  450,   14,\n",
       "         32, 1353, 1357,    3,  494,   68,  374,  175,  122, 1017, 2091,\n",
       "       1018,    7,   13,    9,  667,  374,  341,  941,  122, 1017,  730,\n",
       "         68,  109,  868, 2092, 2093, 1018, 2094, 2095, 2096,  536, 2097,\n",
       "         19, 1163, 1754, 2098, 2099,   17, 2100, 1629,  628,  149,  537,\n",
       "        668,   39, 2101,  479,    6, 2102,  629,  179,  448, 1280, 1755,\n",
       "         39,  332, 1374, 2103,  348,  942, 1019,  943, 1630,  731, 1092,\n",
       "        319, 1756, 2104,  827, 1631,  943,  629,  348, 2105, 1093,  412,\n",
       "         38,  529, 1632,  692,  479,   68,  537,  565,  629,    7,   13,\n",
       "          9,  537,  207, 2106,    6,  565,   68,    4,  480, 2107,  240,\n",
       "        179,  479,   45,  225, 1164,   97,  538,   55, 1020, 2108,   39,\n",
       "       2109,  149,  628,  598,   24,  469,  200,  451,  599,   54,  240,\n",
       "        273, 1165,  241, 1021, 2110,  225,  157,  213, 2111, 2112,   14,\n",
       "        293,  213,    2,    4,  732, 1511,  828,  363, 2113, 2114,  417,\n",
       "        431,  240,    4,  273,   37,  275,    6,    1, 1633,  240, 1019,\n",
       "       2115,  628,    2,    4,  432,   39,  452,  565,  240, 2116, 2117,\n",
       "       2118, 2119, 2120,  433,   45,    6,    1,   54,  225,   97, 1757,\n",
       "        539,  227,  136, 1020,  534, 1758,  869, 2121,   39,  598,  785,\n",
       "       2122, 2123, 1759, 1512, 1634,  118,  268,   19,   68,   65, 2124,\n",
       "         45, 1760,    4,   79, 2125,   13,  251,  944, 2126, 2127,   51,\n",
       "          2,   16,  273, 1005, 2128,  475,    2,   65,  160,  149,   39,\n",
       "       2129, 2130,  242,  511,    2,    4,  566,  539, 2131, 2132,  275,\n",
       "       2133, 2134, 1022, 2135,  231, 2136, 2137,  343, 1166, 1167,  209,\n",
       "          3, 2138,  600, 2139,  209,    3, 1761,  512, 1762,    3,  145,\n",
       "       2140,  786, 2141, 2142, 2143,  418, 2144, 2145, 2146,    2,    4,\n",
       "         18, 2147,   18, 1094, 2148, 2149, 1168,  481,   18,   13,   23,\n",
       "        257, 2150, 2151,  428,  241,   22, 2152, 1763,  145, 1513,   67,\n",
       "        787, 2153,  118,   13,  945, 2154,  145,  946, 1281, 1282, 2155,\n",
       "       2156,  231, 2157, 1375, 2158,  157, 1023, 2159,  147,   46, 1514,\n",
       "       1376,   42,  820, 1515, 2160,  232,  249,  149,   39, 2161, 1024,\n",
       "        247,  190,  122,  511,  566,  141,   88, 1377,  947, 2162,   39,\n",
       "       2163, 1023, 2164, 2165,  658,  137,  113,  995,   19, 1095,  242,\n",
       "        511,   39,  214,   11, 1764,  482,  362,  331, 1025, 2166,  228,\n",
       "       2167, 1516,  118, 2168, 1016, 2169, 1283,  630,  123, 1024,    2,\n",
       "          4,   65,  624,  690, 1026, 2170, 1027,  513, 1021, 2171,  252,\n",
       "        624,  690, 1026,   37,   86,  214, 1027,  513, 1028,  309, 2172,\n",
       "        948, 1765, 2173, 1635,    6,    1,  128,  268,  514, 2174,    3,\n",
       "       2175,  510,   13,   11, 2176, 1636, 2177,  263,  108, 2178,  145,\n",
       "       2179, 1028,  417,  310, 2180, 2181, 2182,  300, 1284, 2183, 1517,\n",
       "       1169,    3,  419,    2,    4,  119,  528,  304,  275, 1766,   66,\n",
       "       1096,  235,  386, 2184,  770, 1378,   45,  879,   43, 2185, 2186,\n",
       "       2187, 1097,  364,  124,   88, 2188,  349,  350,  788])"
      ]
     },
     "execution_count": 37,
     "metadata": {},
     "output_type": "execute_result"
    }
   ],
   "source": [
    "X[20]"
   ]
  },
  {
   "cell_type": "code",
   "execution_count": 34,
   "metadata": {
    "ExecuteTime": {
     "end_time": "2020-11-10T09:14:57.248315Z",
     "start_time": "2020-11-10T09:14:57.235815Z"
    }
   },
   "outputs": [
    {
     "name": "stdout",
     "output_type": "stream",
     "text": [
      "Shape of label tensor: (213, 2)\n"
     ]
    }
   ],
   "source": [
    "# Defining Y\n",
    "Y = pd.get_dummies(df['Cluster_grp']).values\n",
    "print('Shape of label tensor:', Y.shape)"
   ]
  },
  {
   "cell_type": "code",
   "execution_count": 35,
   "metadata": {
    "ExecuteTime": {
     "end_time": "2020-11-10T09:14:58.173064Z",
     "start_time": "2020-11-10T09:14:58.157719Z"
    }
   },
   "outputs": [
    {
     "name": "stdout",
     "output_type": "stream",
     "text": [
      "(159, 526) (159, 2)\n",
      "(54, 526) (54, 2)\n"
     ]
    }
   ],
   "source": [
    "# Train-test-split \n",
    "X_train, X_test, Y_train, Y_test = train_test_split(X,Y, test_size = 0.25, random_state = 42,\n",
    "                                                    stratify=Y)\n",
    "print(X_train.shape,Y_train.shape)\n",
    "print(X_test.shape,Y_test.shape)"
   ]
  },
  {
   "cell_type": "markdown",
   "metadata": {},
   "source": [
    "# Creating LSTM"
   ]
  },
  {
   "cell_type": "markdown",
   "metadata": {
    "ExecuteTime": {
     "end_time": "2020-11-11T12:15:10.131677Z",
     "start_time": "2020-11-11T12:15:10.128686Z"
    }
   },
   "source": [
    "## LSTM - One Output"
   ]
  },
  {
   "cell_type": "code",
   "execution_count": 37,
   "metadata": {
    "ExecuteTime": {
     "end_time": "2020-11-11T12:27:28.940551Z",
     "start_time": "2020-11-11T12:27:27.206765Z"
    }
   },
   "outputs": [
    {
     "name": "stdout",
     "output_type": "stream",
     "text": [
      "WARNING:tensorflow:Layer lstm will not use cuDNN kernel since it doesn't meet the cuDNN kernel criteria. It will use generic GPU kernel as fallback when running on GPU\n"
     ]
    }
   ],
   "source": [
    "model = Sequential()\n",
    "\n",
    "# Embedding layer\n",
    "model.add(Embedding(input_dim=max_features,\n",
    "              input_length =X.shape[1],\n",
    "              output_dim=embed_size,\n",
    "              trainable=False,\n",
    "              mask_zero=True))\n",
    "\n",
    "# Recurrent layer\n",
    "model.add(LSTM(embed_size, return_sequences=True, \n",
    "               dropout=0.2, recurrent_dropout=0.2))\n",
    "\n",
    "# Recurrent layer\n",
    "model.add(LSTM(embed_size,return_sequences=True))\n",
    "\n",
    "# Recurrent layer\n",
    "model.add(LSTM(embed_size))\n",
    "\n",
    "# Dropout Layer\n",
    "model.add(Dropout(rate=0.2))\n",
    "\n",
    "# Output layer\n",
    "model.add(Dense(Y.shape[1], activation='softmax'))\n",
    "\n",
    "\n",
    "# Compile the model\n",
    "model.compile(\n",
    "    optimizer='adam', loss='binary_crossentropy', metrics=['accuracy'])"
   ]
  },
  {
   "cell_type": "code",
   "execution_count": 42,
   "metadata": {
    "ExecuteTime": {
     "end_time": "2020-11-11T13:47:38.807291Z",
     "start_time": "2020-11-11T13:47:38.804597Z"
    }
   },
   "outputs": [],
   "source": [
    "from tensorflow.keras.utils import plot_model"
   ]
  },
  {
   "cell_type": "code",
   "execution_count": 113,
   "metadata": {
    "ExecuteTime": {
     "end_time": "2020-11-10T11:11:28.539716Z",
     "start_time": "2020-11-10T11:11:28.426444Z"
    }
   },
   "outputs": [
    {
     "data": {
      "image/png": "[encoded data removed]",
      "text/plain": [
       "<IPython.core.display.Image object>"
      ]
     },
     "execution_count": 113,
     "metadata": {},
     "output_type": "execute_result"
    }
   ],
   "source": [
    "plot_model(model, show_shapes=True)"
   ]
  },
  {
   "cell_type": "code",
   "execution_count": 106,
   "metadata": {
    "ExecuteTime": {
     "end_time": "2020-11-10T10:52:11.902664Z",
     "start_time": "2020-11-10T10:52:11.896105Z"
    }
   },
   "outputs": [
    {
     "name": "stdout",
     "output_type": "stream",
     "text": [
      "Model: \"sequential_10\"\n",
      "_________________________________________________________________\n",
      "Layer (type)                 Output Shape              Param #   \n",
      "=================================================================\n",
      "embedding_10 (Embedding)     (None, 526, 100)          5000000   \n",
      "_________________________________________________________________\n",
      "lstm_21 (LSTM)               (None, 526, 100)          80400     \n",
      "_________________________________________________________________\n",
      "lstm_22 (LSTM)               (None, 526, 100)          80400     \n",
      "_________________________________________________________________\n",
      "lstm_23 (LSTM)               (None, 100)               80400     \n",
      "_________________________________________________________________\n",
      "dropout_2 (Dropout)          (None, 100)               0         \n",
      "_________________________________________________________________\n",
      "dense_5 (Dense)              (None, 2)                 202       \n",
      "=================================================================\n",
      "Total params: 5,241,402\n",
      "Trainable params: 241,402\n",
      "Non-trainable params: 5,000,000\n",
      "_________________________________________________________________\n"
     ]
    }
   ],
   "source": [
    "model.summary()"
   ]
  },
  {
   "cell_type": "markdown",
   "metadata": {},
   "source": [
    "## LSTM - Two Output"
   ]
  },
  {
   "cell_type": "code",
   "execution_count": 44,
   "metadata": {
    "ExecuteTime": {
     "end_time": "2020-11-11T13:47:56.601430Z",
     "start_time": "2020-11-11T13:47:54.645516Z"
    }
   },
   "outputs": [
    {
     "name": "stdout",
     "output_type": "stream",
     "text": [
      "WARNING:tensorflow:Layer lstm_16 will not use cuDNN kernel since it doesn't meet the cuDNN kernel criteria. It will use generic GPU kernel as fallback when running on GPU\n"
     ]
    }
   ],
   "source": [
    "m_input=Input(shape=(X.shape[1],),dtype='int32',name='main_Input')\n",
    "\n",
    "model_2=Embedding(input_dim=max_features,\n",
    "              input_length =X.shape[1],\n",
    "              output_dim=embed_size,\n",
    "              trainable=False,\n",
    "              mask_zero=True)(m_input)\n",
    "\n",
    "lstm_1=LSTM(embed_size, return_sequences=True, \n",
    "               dropout=0.2, recurrent_dropout=0.2)(model_2)\n",
    "\n",
    "lstm_2=LSTM(embed_size, return_sequences=True)(lstm_1)\n",
    "\n",
    "lstm_3=LSTM(embed_size)(lstm_1)\n",
    "\n",
    "aux_output=Dense(Y.shape[1], activation='softmax',name='aux_Output')(lstm_3)\n",
    "\n",
    "lstm_4=LSTM(embed_size)(lstm_2)\n",
    "\n",
    "main_output=Dense(Y.shape[1], activation='softmax',name='main_Output')(lstm_4)\n",
    "\n",
    "Two_output=Model(m_input, [main_output,aux_output])\n",
    "Two_output.compile(\n",
    "    optimizer='adam', loss='binary_crossentropy', metrics=['accuracy'])"
   ]
  },
  {
   "cell_type": "code",
   "execution_count": 45,
   "metadata": {
    "ExecuteTime": {
     "end_time": "2020-11-11T13:47:59.445535Z",
     "start_time": "2020-11-11T13:47:59.324406Z"
    }
   },
   "outputs": [
    {
     "data": {
      "image/png": "[encoded data removed]",
      "text/plain": [
       "<IPython.core.display.Image object>"
      ]
     },
     "execution_count": 45,
     "metadata": {},
     "output_type": "execute_result"
    }
   ],
   "source": [
    "plot_model(Two_output, show_shapes=True)"
   ]
  },
  {
   "cell_type": "code",
   "execution_count": 41,
   "metadata": {
    "ExecuteTime": {
     "end_time": "2020-11-11T13:47:23.139474Z",
     "start_time": "2020-11-11T13:47:23.133943Z"
    }
   },
   "outputs": [
    {
     "name": "stdout",
     "output_type": "stream",
     "text": [
      "Model: \"model\"\n",
      "__________________________________________________________________________________________________\n",
      "Layer (type)                    Output Shape         Param #     Connected to                     \n",
      "==================================================================================================\n",
      "main_Input (InputLayer)         [(None, 221)]        0                                            \n",
      "__________________________________________________________________________________________________\n",
      "embedding_6 (Embedding)         (None, 221, 200)     10000000    main_Input[0][0]                 \n",
      "__________________________________________________________________________________________________\n",
      "lstm_12 (LSTM)                  (None, 221, 200)     320800      embedding_6[0][0]                \n",
      "__________________________________________________________________________________________________\n",
      "lstm_13 (LSTM)                  (None, 221, 200)     320800      lstm_12[0][0]                    \n",
      "__________________________________________________________________________________________________\n",
      "lstm_15 (LSTM)                  (None, 200)          320800      lstm_13[0][0]                    \n",
      "__________________________________________________________________________________________________\n",
      "lstm_14 (LSTM)                  (None, 200)          320800      lstm_12[0][0]                    \n",
      "__________________________________________________________________________________________________\n",
      "main_Output (Dense)             (None, 2)            402         lstm_15[0][0]                    \n",
      "__________________________________________________________________________________________________\n",
      "aux_Output (Dense)              (None, 2)            402         lstm_14[0][0]                    \n",
      "==================================================================================================\n",
      "Total params: 11,284,004\n",
      "Trainable params: 1,284,004\n",
      "Non-trainable params: 10,000,000\n",
      "__________________________________________________________________________________________________\n"
     ]
    }
   ],
   "source": [
    "Two_output.summary()"
   ]
  },
  {
   "cell_type": "markdown",
   "metadata": {},
   "source": [
    "# Running LSTM "
   ]
  },
  {
   "cell_type": "markdown",
   "metadata": {},
   "source": [
    "## Basic Model"
   ]
  },
  {
   "cell_type": "code",
   "execution_count": 50,
   "metadata": {
    "ExecuteTime": {
     "end_time": "2020-11-05T14:16:08.032178Z",
     "start_time": "2020-11-05T14:14:15.572344Z"
    }
   },
   "outputs": [
    {
     "name": "stdout",
     "output_type": "stream",
     "text": [
      "Epoch 1/25\n",
      "1/1 - 2s - loss: 0.6930 - accuracy: 0.5385 - val_loss: 0.6948 - val_accuracy: 0.3750\n",
      "Epoch 2/25\n",
      "1/1 - 0s - loss: 0.6915 - accuracy: 0.5035 - val_loss: 0.6962 - val_accuracy: 0.3750\n",
      "Epoch 3/25\n",
      "1/1 - 0s - loss: 0.6895 - accuracy: 0.5035 - val_loss: 0.6960 - val_accuracy: 0.3750\n",
      "Epoch 4/25\n",
      "1/1 - 0s - loss: 0.6877 - accuracy: 0.5035 - val_loss: 0.6916 - val_accuracy: 0.4375\n",
      "Epoch 5/25\n",
      "1/1 - 0s - loss: 0.6836 - accuracy: 0.5664 - val_loss: 0.6817 - val_accuracy: 0.7500\n",
      "Epoch 6/25\n",
      "1/1 - 0s - loss: 0.6776 - accuracy: 0.8042 - val_loss: 0.6655 - val_accuracy: 0.8125\n",
      "Epoch 7/25\n",
      "1/1 - 0s - loss: 0.6669 - accuracy: 0.7343 - val_loss: 0.6524 - val_accuracy: 0.7500\n",
      "Epoch 8/25\n",
      "1/1 - 0s - loss: 0.6528 - accuracy: 0.7762 - val_loss: 0.6456 - val_accuracy: 0.6875\n",
      "Epoch 9/25\n",
      "1/1 - 0s - loss: 0.6262 - accuracy: 0.8042 - val_loss: 0.6015 - val_accuracy: 0.8125\n",
      "Epoch 10/25\n",
      "1/1 - 0s - loss: 0.5898 - accuracy: 0.7622 - val_loss: 0.5254 - val_accuracy: 0.7500\n",
      "Epoch 11/25\n",
      "1/1 - 0s - loss: 0.5658 - accuracy: 0.7133 - val_loss: 0.5474 - val_accuracy: 0.8125\n",
      "Epoch 12/25\n",
      "1/1 - 0s - loss: 0.5533 - accuracy: 0.7203 - val_loss: 0.4528 - val_accuracy: 0.7500\n",
      "Epoch 13/25\n",
      "1/1 - 0s - loss: 0.4708 - accuracy: 0.7762 - val_loss: 0.4542 - val_accuracy: 0.8125\n",
      "Epoch 14/25\n",
      "1/1 - 0s - loss: 0.4815 - accuracy: 0.8182 - val_loss: 0.4244 - val_accuracy: 0.8125\n",
      "Epoch 15/25\n",
      "1/1 - 0s - loss: 0.4451 - accuracy: 0.7972 - val_loss: 0.4024 - val_accuracy: 0.8125\n",
      "Epoch 16/25\n",
      "1/1 - 0s - loss: 0.4131 - accuracy: 0.8252 - val_loss: 0.3907 - val_accuracy: 0.8750\n",
      "Epoch 17/25\n",
      "1/1 - 0s - loss: 0.3717 - accuracy: 0.8392 - val_loss: 0.3477 - val_accuracy: 0.8750\n",
      "Epoch 18/25\n",
      "1/1 - 0s - loss: 0.3496 - accuracy: 0.8462 - val_loss: 0.2798 - val_accuracy: 0.9375\n",
      "Epoch 19/25\n",
      "1/1 - 0s - loss: 0.2865 - accuracy: 0.8881 - val_loss: 0.3099 - val_accuracy: 0.8125\n",
      "Epoch 20/25\n",
      "1/1 - 0s - loss: 0.2819 - accuracy: 0.8951 - val_loss: 0.2086 - val_accuracy: 0.8750\n",
      "Epoch 21/25\n",
      "1/1 - 0s - loss: 0.2345 - accuracy: 0.8951 - val_loss: 0.1368 - val_accuracy: 1.0000\n",
      "Epoch 22/25\n",
      "1/1 - 0s - loss: 0.2607 - accuracy: 0.8671 - val_loss: 0.1888 - val_accuracy: 0.9375\n",
      "Epoch 23/25\n",
      "1/1 - 0s - loss: 0.1968 - accuracy: 0.9371 - val_loss: 0.2772 - val_accuracy: 0.8750\n",
      "Epoch 24/25\n",
      "1/1 - 0s - loss: 0.2243 - accuracy: 0.8951 - val_loss: 0.2471 - val_accuracy: 0.9375\n",
      "Epoch 25/25\n",
      "1/1 - 0s - loss: 0.1950 - accuracy: 0.9231 - val_loss: 0.1895 - val_accuracy: 0.8750\n"
     ]
    }
   ],
   "source": [
    "history = model.fit(X_train, Y_train, epochs=epochs, batch_size=batch_size,validation_split=0.1,\n",
    "                    callbacks=[EarlyStopping(monitor='loss', patience=10, min_delta=0.0001)], \n",
    "                    verbose=2,validation_data=(X_test,Y_test))"
   ]
  },
  {
   "cell_type": "markdown",
   "metadata": {},
   "source": [
    "Note: Huge accuracy increase after 10th epoch. "
   ]
  },
  {
   "cell_type": "code",
   "execution_count": 52,
   "metadata": {
    "ExecuteTime": {
     "end_time": "2020-11-05T14:18:00.114914Z",
     "start_time": "2020-11-05T14:18:00.032661Z"
    }
   },
   "outputs": [],
   "source": [
    "# Saving Model \n",
    "model.save('newspaper.h5')"
   ]
  },
  {
   "cell_type": "code",
   "execution_count": 53,
   "metadata": {
    "ExecuteTime": {
     "end_time": "2020-11-05T14:18:01.880137Z",
     "start_time": "2020-11-05T14:18:01.744503Z"
    }
   },
   "outputs": [
    {
     "data": {
      "image/png": "[encoded data removed]",
      "text/plain": [
       "<Figure size 1152x720 with 1 Axes>"
      ]
     },
     "metadata": {
      "needs_background": "light"
     },
     "output_type": "display_data"
    }
   ],
   "source": [
    "# Evaluating Accuracy \n",
    "plt.figure(figsize=(16,10))\n",
    "plt.title('Accuracy')\n",
    "plt.plot(history.history['accuracy'], label='train')\n",
    "plt.plot(history.history['val_accuracy'], label='test')\n",
    "plt.legend()\n",
    "plt.show();"
   ]
  },
  {
   "cell_type": "markdown",
   "metadata": {},
   "source": [
    "## Alternative Model"
   ]
  },
  {
   "cell_type": "code",
   "execution_count": 128,
   "metadata": {
    "ExecuteTime": {
     "end_time": "2020-11-10T11:25:48.192769Z",
     "start_time": "2020-11-10T11:23:25.592277Z"
    },
    "scrolled": true
   },
   "outputs": [
    {
     "name": "stdout",
     "output_type": "stream",
     "text": [
      "Epoch 1/30\n",
      "1/1 - 0s - loss: 0.3332 - main_Output_loss: 0.1238 - aux_Output_loss: 0.2094 - main_Output_accuracy: 0.9301 - aux_Output_accuracy: 0.9371 - val_loss: 0.4472 - val_main_Output_loss: 0.2163 - val_aux_Output_loss: 0.2309 - val_main_Output_accuracy: 0.9375 - val_aux_Output_accuracy: 0.9375\n",
      "Epoch 2/30\n",
      "1/1 - 0s - loss: 0.2837 - main_Output_loss: 0.1068 - aux_Output_loss: 0.1769 - main_Output_accuracy: 0.9650 - aux_Output_accuracy: 0.9510 - val_loss: 0.4958 - val_main_Output_loss: 0.2975 - val_aux_Output_loss: 0.1983 - val_main_Output_accuracy: 0.8750 - val_aux_Output_accuracy: 0.8750\n",
      "Epoch 3/30\n",
      "1/1 - 0s - loss: 0.2724 - main_Output_loss: 0.1215 - aux_Output_loss: 0.1509 - main_Output_accuracy: 0.9580 - aux_Output_accuracy: 0.9580 - val_loss: 0.4116 - val_main_Output_loss: 0.2444 - val_aux_Output_loss: 0.1671 - val_main_Output_accuracy: 0.8750 - val_aux_Output_accuracy: 0.9375\n",
      "Epoch 4/30\n",
      "1/1 - 0s - loss: 0.2212 - main_Output_loss: 0.0866 - aux_Output_loss: 0.1347 - main_Output_accuracy: 0.9790 - aux_Output_accuracy: 0.9580 - val_loss: 0.3681 - val_main_Output_loss: 0.2473 - val_aux_Output_loss: 0.1208 - val_main_Output_accuracy: 0.8750 - val_aux_Output_accuracy: 1.0000\n",
      "Epoch 5/30\n",
      "1/1 - 0s - loss: 0.1813 - main_Output_loss: 0.1007 - aux_Output_loss: 0.0807 - main_Output_accuracy: 0.9580 - aux_Output_accuracy: 0.9860 - val_loss: 0.1874 - val_main_Output_loss: 0.0748 - val_aux_Output_loss: 0.1125 - val_main_Output_accuracy: 1.0000 - val_aux_Output_accuracy: 1.0000\n",
      "Epoch 6/30\n",
      "1/1 - 0s - loss: 0.1896 - main_Output_loss: 0.0670 - aux_Output_loss: 0.1225 - main_Output_accuracy: 0.9720 - aux_Output_accuracy: 0.9441 - val_loss: 1.0158 - val_main_Output_loss: 0.5956 - val_aux_Output_loss: 0.4203 - val_main_Output_accuracy: 0.8125 - val_aux_Output_accuracy: 0.8125\n",
      "Epoch 7/30\n",
      "1/1 - 0s - loss: 0.7372 - main_Output_loss: 0.4846 - aux_Output_loss: 0.2526 - main_Output_accuracy: 0.8252 - aux_Output_accuracy: 0.9091 - val_loss: 0.3857 - val_main_Output_loss: 0.2357 - val_aux_Output_loss: 0.1500 - val_main_Output_accuracy: 0.8750 - val_aux_Output_accuracy: 0.9375\n",
      "Epoch 8/30\n",
      "1/1 - 0s - loss: 0.1822 - main_Output_loss: 0.1035 - aux_Output_loss: 0.0786 - main_Output_accuracy: 0.9650 - aux_Output_accuracy: 0.9860 - val_loss: 0.0716 - val_main_Output_loss: 0.0252 - val_aux_Output_loss: 0.0463 - val_main_Output_accuracy: 1.0000 - val_aux_Output_accuracy: 1.0000\n",
      "Epoch 9/30\n",
      "1/1 - 0s - loss: 0.1771 - main_Output_loss: 0.0878 - aux_Output_loss: 0.0893 - main_Output_accuracy: 0.9720 - aux_Output_accuracy: 0.9580 - val_loss: 0.1277 - val_main_Output_loss: 0.0489 - val_aux_Output_loss: 0.0788 - val_main_Output_accuracy: 1.0000 - val_aux_Output_accuracy: 1.0000\n",
      "Epoch 10/30\n",
      "1/1 - 0s - loss: 0.2051 - main_Output_loss: 0.1018 - aux_Output_loss: 0.1033 - main_Output_accuracy: 0.9650 - aux_Output_accuracy: 0.9580 - val_loss: 0.1305 - val_main_Output_loss: 0.0560 - val_aux_Output_loss: 0.0744 - val_main_Output_accuracy: 1.0000 - val_aux_Output_accuracy: 1.0000\n",
      "Epoch 11/30\n",
      "1/1 - 0s - loss: 0.1444 - main_Output_loss: 0.0602 - aux_Output_loss: 0.0842 - main_Output_accuracy: 0.9790 - aux_Output_accuracy: 0.9720 - val_loss: 0.3153 - val_main_Output_loss: 0.1633 - val_aux_Output_loss: 0.1520 - val_main_Output_accuracy: 0.8750 - val_aux_Output_accuracy: 0.9375\n",
      "Epoch 12/30\n",
      "1/1 - 0s - loss: 0.2292 - main_Output_loss: 0.1119 - aux_Output_loss: 0.1173 - main_Output_accuracy: 0.9580 - aux_Output_accuracy: 0.9580 - val_loss: 0.2983 - val_main_Output_loss: 0.1483 - val_aux_Output_loss: 0.1500 - val_main_Output_accuracy: 0.9375 - val_aux_Output_accuracy: 0.9375\n",
      "Epoch 13/30\n",
      "1/1 - 0s - loss: 0.1755 - main_Output_loss: 0.0771 - aux_Output_loss: 0.0984 - main_Output_accuracy: 0.9650 - aux_Output_accuracy: 0.9580 - val_loss: 0.1658 - val_main_Output_loss: 0.0673 - val_aux_Output_loss: 0.0985 - val_main_Output_accuracy: 1.0000 - val_aux_Output_accuracy: 0.9375\n",
      "Epoch 14/30\n",
      "1/1 - 0s - loss: 0.1199 - main_Output_loss: 0.0444 - aux_Output_loss: 0.0755 - main_Output_accuracy: 0.9930 - aux_Output_accuracy: 0.9860 - val_loss: 0.0817 - val_main_Output_loss: 0.0253 - val_aux_Output_loss: 0.0563 - val_main_Output_accuracy: 1.0000 - val_aux_Output_accuracy: 1.0000\n",
      "Epoch 15/30\n",
      "1/1 - 0s - loss: 0.1442 - main_Output_loss: 0.0651 - aux_Output_loss: 0.0792 - main_Output_accuracy: 0.9720 - aux_Output_accuracy: 0.9860 - val_loss: 0.0724 - val_main_Output_loss: 0.0249 - val_aux_Output_loss: 0.0476 - val_main_Output_accuracy: 1.0000 - val_aux_Output_accuracy: 1.0000\n",
      "Epoch 16/30\n",
      "1/1 - 0s - loss: 0.1385 - main_Output_loss: 0.0682 - aux_Output_loss: 0.0702 - main_Output_accuracy: 0.9720 - aux_Output_accuracy: 0.9860 - val_loss: 0.0653 - val_main_Output_loss: 0.0227 - val_aux_Output_loss: 0.0426 - val_main_Output_accuracy: 1.0000 - val_aux_Output_accuracy: 1.0000\n",
      "Epoch 17/30\n",
      "1/1 - 0s - loss: 0.0869 - main_Output_loss: 0.0382 - aux_Output_loss: 0.0486 - main_Output_accuracy: 0.9930 - aux_Output_accuracy: 1.0000 - val_loss: 0.0556 - val_main_Output_loss: 0.0187 - val_aux_Output_loss: 0.0369 - val_main_Output_accuracy: 1.0000 - val_aux_Output_accuracy: 1.0000\n",
      "Epoch 18/30\n",
      "1/1 - 0s - loss: 0.1176 - main_Output_loss: 0.0556 - aux_Output_loss: 0.0619 - main_Output_accuracy: 0.9790 - aux_Output_accuracy: 0.9790 - val_loss: 0.0711 - val_main_Output_loss: 0.0262 - val_aux_Output_loss: 0.0449 - val_main_Output_accuracy: 1.0000 - val_aux_Output_accuracy: 1.0000\n",
      "Epoch 19/30\n",
      "1/1 - 0s - loss: 0.1153 - main_Output_loss: 0.0521 - aux_Output_loss: 0.0632 - main_Output_accuracy: 0.9790 - aux_Output_accuracy: 0.9720 - val_loss: 0.1448 - val_main_Output_loss: 0.0670 - val_aux_Output_loss: 0.0778 - val_main_Output_accuracy: 0.9375 - val_aux_Output_accuracy: 0.9375\n",
      "Epoch 20/30\n",
      "1/1 - 0s - loss: 0.1872 - main_Output_loss: 0.0991 - aux_Output_loss: 0.0881 - main_Output_accuracy: 0.9580 - aux_Output_accuracy: 0.9650 - val_loss: 0.1489 - val_main_Output_loss: 0.0720 - val_aux_Output_loss: 0.0769 - val_main_Output_accuracy: 0.9375 - val_aux_Output_accuracy: 0.9375\n",
      "Epoch 21/30\n",
      "1/1 - 0s - loss: 0.1069 - main_Output_loss: 0.0503 - aux_Output_loss: 0.0566 - main_Output_accuracy: 0.9790 - aux_Output_accuracy: 0.9790 - val_loss: 0.0989 - val_main_Output_loss: 0.0487 - val_aux_Output_loss: 0.0503 - val_main_Output_accuracy: 1.0000 - val_aux_Output_accuracy: 1.0000\n",
      "Epoch 22/30\n",
      "1/1 - 0s - loss: 0.0713 - main_Output_loss: 0.0336 - aux_Output_loss: 0.0377 - main_Output_accuracy: 0.9860 - aux_Output_accuracy: 0.9930 - val_loss: 0.0569 - val_main_Output_loss: 0.0281 - val_aux_Output_loss: 0.0288 - val_main_Output_accuracy: 1.0000 - val_aux_Output_accuracy: 1.0000\n",
      "Epoch 23/30\n",
      "1/1 - 0s - loss: 0.0345 - main_Output_loss: 0.0149 - aux_Output_loss: 0.0196 - main_Output_accuracy: 1.0000 - aux_Output_accuracy: 1.0000 - val_loss: 0.0356 - val_main_Output_loss: 0.0174 - val_aux_Output_loss: 0.0182 - val_main_Output_accuracy: 1.0000 - val_aux_Output_accuracy: 1.0000\n",
      "Epoch 24/30\n",
      "1/1 - 0s - loss: 0.0434 - main_Output_loss: 0.0198 - aux_Output_loss: 0.0236 - main_Output_accuracy: 1.0000 - aux_Output_accuracy: 1.0000 - val_loss: 0.0295 - val_main_Output_loss: 0.0139 - val_aux_Output_loss: 0.0155 - val_main_Output_accuracy: 1.0000 - val_aux_Output_accuracy: 1.0000\n",
      "Epoch 25/30\n",
      "1/1 - 0s - loss: 0.0863 - main_Output_loss: 0.0393 - aux_Output_loss: 0.0470 - main_Output_accuracy: 0.9860 - aux_Output_accuracy: 0.9790 - val_loss: 0.0258 - val_main_Output_loss: 0.0123 - val_aux_Output_loss: 0.0136 - val_main_Output_accuracy: 1.0000 - val_aux_Output_accuracy: 1.0000\n",
      "Epoch 26/30\n",
      "1/1 - 0s - loss: 0.0706 - main_Output_loss: 0.0318 - aux_Output_loss: 0.0389 - main_Output_accuracy: 0.9930 - aux_Output_accuracy: 0.9930 - val_loss: 0.0261 - val_main_Output_loss: 0.0114 - val_aux_Output_loss: 0.0147 - val_main_Output_accuracy: 1.0000 - val_aux_Output_accuracy: 1.0000\n",
      "Epoch 27/30\n",
      "1/1 - 0s - loss: 0.0685 - main_Output_loss: 0.0355 - aux_Output_loss: 0.0331 - main_Output_accuracy: 0.9790 - aux_Output_accuracy: 0.9930 - val_loss: 0.0333 - val_main_Output_loss: 0.0141 - val_aux_Output_loss: 0.0193 - val_main_Output_accuracy: 1.0000 - val_aux_Output_accuracy: 1.0000\n",
      "Epoch 28/30\n",
      "1/1 - 0s - loss: 0.0285 - main_Output_loss: 0.0128 - aux_Output_loss: 0.0157 - main_Output_accuracy: 1.0000 - aux_Output_accuracy: 1.0000 - val_loss: 0.0473 - val_main_Output_loss: 0.0199 - val_aux_Output_loss: 0.0274 - val_main_Output_accuracy: 1.0000 - val_aux_Output_accuracy: 1.0000\n"
     ]
    },
    {
     "name": "stdout",
     "output_type": "stream",
     "text": [
      "Epoch 29/30\n",
      "1/1 - 0s - loss: 0.0865 - main_Output_loss: 0.0421 - aux_Output_loss: 0.0444 - main_Output_accuracy: 0.9860 - aux_Output_accuracy: 0.9790 - val_loss: 0.0440 - val_main_Output_loss: 0.0214 - val_aux_Output_loss: 0.0225 - val_main_Output_accuracy: 1.0000 - val_aux_Output_accuracy: 1.0000\n",
      "Epoch 30/30\n",
      "1/1 - 0s - loss: 0.0464 - main_Output_loss: 0.0154 - aux_Output_loss: 0.0310 - main_Output_accuracy: 0.9930 - aux_Output_accuracy: 0.9860 - val_loss: 0.0240 - val_main_Output_loss: 0.0135 - val_aux_Output_loss: 0.0105 - val_main_Output_accuracy: 1.0000 - val_aux_Output_accuracy: 1.0000\n"
     ]
    }
   ],
   "source": [
    "history_2 = Two_output.fit(X_train, Y_train, epochs=30, batch_size=batch_size,validation_split=0.1,\n",
    "                    callbacks=[EarlyStopping(monitor='loss', patience=10, min_delta=0.0001)], \n",
    "                    verbose=2,validation_data=(X_test,Y_test))"
   ]
  },
  {
   "cell_type": "code",
   "execution_count": 129,
   "metadata": {
    "ExecuteTime": {
     "end_time": "2020-11-10T11:26:35.394751Z",
     "start_time": "2020-11-10T11:26:35.258101Z"
    }
   },
   "outputs": [
    {
     "data": {
      "image/png": "[encoded data removed]",
      "text/plain": [
       "<Figure size 1152x720 with 1 Axes>"
      ]
     },
     "metadata": {
      "needs_background": "light"
     },
     "output_type": "display_data"
    }
   ],
   "source": [
    "# Evaluating Accuracy \n",
    "plt.figure(figsize=(16,10))\n",
    "plt.title('Accuracy')\n",
    "plt.plot(history_2.history['main_Output_accuracy'], label='Main')\n",
    "plt.plot(history_2.history['aux_Output_accuracy'], label='Aux')\n",
    "plt.legend()\n",
    "plt.show();"
   ]
  }
 ],
 "metadata": {
  "kernelspec": {
   "display_name": "Python 3",
   "language": "python",
   "name": "python3"
  },
  "language_info": {
   "codemirror_mode": {
    "name": "ipython",
    "version": 3
   },
   "file_extension": ".py",
   "mimetype": "text/x-python",
   "name": "python",
   "nbconvert_exporter": "python",
   "pygments_lexer": "ipython3",
   "version": "3.7.6"
  },
  "toc": {
   "base_numbering": 1,
   "nav_menu": {},
   "number_sections": true,
   "sideBar": true,
   "skip_h1_title": false,
   "title_cell": "Table of Contents",
   "title_sidebar": "Contents",
   "toc_cell": false,
   "toc_position": {
    "height": "calc(100% - 180px)",
    "left": "10px",
    "top": "150px",
    "width": "339px"
   },
   "toc_section_display": true,
   "toc_window_display": false
  },
  "varInspector": {
   "cols": {
    "lenName": 16,
    "lenType": 16,
    "lenVar": 40
   },
   "kernels_config": {
    "python": {
     "delete_cmd_postfix": "",
     "delete_cmd_prefix": "del ",
     "library": "var_list.py",
     "varRefreshCmd": "print(var_dic_list())"
    },
    "r": {
     "delete_cmd_postfix": ") ",
     "delete_cmd_prefix": "rm(",
     "library": "var_list.r",
     "varRefreshCmd": "cat(var_dic_list()) "
    }
   },
   "types_to_exclude": [
    "module",
    "function",
    "builtin_function_or_method",
    "instance",
    "_Feature"
   ],
   "window_display": false
  }
 },
 "nbformat": 4,
 "nbformat_minor": 4
}
